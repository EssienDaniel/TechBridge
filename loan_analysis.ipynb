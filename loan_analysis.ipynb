{
 "cells": [
  {
   "cell_type": "markdown",
   "metadata": {},
   "source": [
    "# Arise Application Challenge\n",
    "---"
   ]
  },
  {
   "cell_type": "markdown",
   "metadata": {},
   "source": [
    "Please answer the questions shown below by completing the code within this notebook and filling in your final answers in the respective block of the arise Challenge Answers form. "
   ]
  },
  {
   "cell_type": "markdown",
   "metadata": {},
   "source": [
    "---"
   ]
  },
  {
   "cell_type": "markdown",
   "metadata": {},
   "source": [
    "### Step 1 (this step does not have an answer in the answer form)"
   ]
  },
  {
   "cell_type": "markdown",
   "metadata": {},
   "source": [
    "Please import the Pandas package. You will need to install the package if you do not already have them (`hint - google anaconda install pandas`)."
   ]
  },
  {
   "cell_type": "code",
   "execution_count": 1,
   "metadata": {},
   "outputs": [
    {
     "data": {
      "text/html": [
       "<div>\n",
       "<style scoped>\n",
       "    .dataframe tbody tr th:only-of-type {\n",
       "        vertical-align: middle;\n",
       "    }\n",
       "\n",
       "    .dataframe tbody tr th {\n",
       "        vertical-align: top;\n",
       "    }\n",
       "\n",
       "    .dataframe thead th {\n",
       "        text-align: right;\n",
       "    }\n",
       "</style>\n",
       "<table border=\"1\" class=\"dataframe\">\n",
       "  <thead>\n",
       "    <tr style=\"text-align: right;\">\n",
       "      <th></th>\n",
       "      <th>customerID</th>\n",
       "      <th>loanId</th>\n",
       "      <th>appilcationDate</th>\n",
       "      <th>LoanNumber</th>\n",
       "      <th>LoanAmount</th>\n",
       "      <th>InterestRate</th>\n",
       "      <th>TermDays</th>\n",
       "      <th>repaymentDueDate</th>\n",
       "      <th>repaymentPaidDate</th>\n",
       "    </tr>\n",
       "  </thead>\n",
       "  <tbody>\n",
       "    <tr>\n",
       "      <th>0</th>\n",
       "      <td>839247458</td>\n",
       "      <td>302953235622</td>\n",
       "      <td>2018-12-21</td>\n",
       "      <td>1</td>\n",
       "      <td>7500.0</td>\n",
       "      <td>30.0</td>\n",
       "      <td>30</td>\n",
       "      <td>2019-01-20</td>\n",
       "      <td>2019-01-16</td>\n",
       "    </tr>\n",
       "    <tr>\n",
       "      <th>1</th>\n",
       "      <td>217540860</td>\n",
       "      <td>302960101337</td>\n",
       "      <td>2018-12-23</td>\n",
       "      <td>1</td>\n",
       "      <td>7500.0</td>\n",
       "      <td>30.0</td>\n",
       "      <td>30</td>\n",
       "      <td>2019-01-22</td>\n",
       "      <td>2018-12-29</td>\n",
       "    </tr>\n",
       "    <tr>\n",
       "      <th>2</th>\n",
       "      <td>522238092</td>\n",
       "      <td>303016988846</td>\n",
       "      <td>2019-01-08</td>\n",
       "      <td>1</td>\n",
       "      <td>7500.0</td>\n",
       "      <td>30.0</td>\n",
       "      <td>30</td>\n",
       "      <td>2019-02-07</td>\n",
       "      <td>2019-01-08</td>\n",
       "    </tr>\n",
       "    <tr>\n",
       "      <th>3</th>\n",
       "      <td>096754469</td>\n",
       "      <td>302999605504</td>\n",
       "      <td>2019-01-04</td>\n",
       "      <td>1</td>\n",
       "      <td>7500.0</td>\n",
       "      <td>30.0</td>\n",
       "      <td>30</td>\n",
       "      <td>2019-02-03</td>\n",
       "      <td>2019-01-08</td>\n",
       "    </tr>\n",
       "    <tr>\n",
       "      <th>4</th>\n",
       "      <td>410354345</td>\n",
       "      <td>302951945878</td>\n",
       "      <td>2018-12-21</td>\n",
       "      <td>1</td>\n",
       "      <td>7500.0</td>\n",
       "      <td>30.0</td>\n",
       "      <td>30</td>\n",
       "      <td>2019-01-20</td>\n",
       "      <td>2019-01-17</td>\n",
       "    </tr>\n",
       "    <tr>\n",
       "      <th>...</th>\n",
       "      <td>...</td>\n",
       "      <td>...</td>\n",
       "      <td>...</td>\n",
       "      <td>...</td>\n",
       "      <td>...</td>\n",
       "      <td>...</td>\n",
       "      <td>...</td>\n",
       "      <td>...</td>\n",
       "      <td>...</td>\n",
       "    </tr>\n",
       "    <tr>\n",
       "      <th>995</th>\n",
       "      <td>964510149</td>\n",
       "      <td>302636726</td>\n",
       "      <td>2018-01-15</td>\n",
       "      <td>2</td>\n",
       "      <td>7500.0</td>\n",
       "      <td>30.0</td>\n",
       "      <td>30</td>\n",
       "      <td>2018-02-14</td>\n",
       "      <td>2018-01-20</td>\n",
       "    </tr>\n",
       "    <tr>\n",
       "      <th>996</th>\n",
       "      <td>251997198</td>\n",
       "      <td>302772445</td>\n",
       "      <td>2018-02-13</td>\n",
       "      <td>1</td>\n",
       "      <td>7500.0</td>\n",
       "      <td>30.0</td>\n",
       "      <td>30</td>\n",
       "      <td>2018-03-15</td>\n",
       "      <td>2018-03-14</td>\n",
       "    </tr>\n",
       "    <tr>\n",
       "      <th>997</th>\n",
       "      <td>899011279</td>\n",
       "      <td>302585439</td>\n",
       "      <td>2018-01-03</td>\n",
       "      <td>3</td>\n",
       "      <td>7500.0</td>\n",
       "      <td>30.0</td>\n",
       "      <td>30</td>\n",
       "      <td>2018-02-02</td>\n",
       "      <td>2018-10-12</td>\n",
       "    </tr>\n",
       "    <tr>\n",
       "      <th>998</th>\n",
       "      <td>648637210</td>\n",
       "      <td>302788322114</td>\n",
       "      <td>2018-11-19</td>\n",
       "      <td>1</td>\n",
       "      <td>7500.0</td>\n",
       "      <td>30.0</td>\n",
       "      <td>30</td>\n",
       "      <td>2018-12-19</td>\n",
       "      <td>2018-12-17</td>\n",
       "    </tr>\n",
       "    <tr>\n",
       "      <th>999</th>\n",
       "      <td>464788691</td>\n",
       "      <td>302683579</td>\n",
       "      <td>2018-01-24</td>\n",
       "      <td>1</td>\n",
       "      <td>7500.0</td>\n",
       "      <td>30.0</td>\n",
       "      <td>30</td>\n",
       "      <td>2018-02-24</td>\n",
       "      <td>2018-02-11</td>\n",
       "    </tr>\n",
       "  </tbody>\n",
       "</table>\n",
       "<p>1000 rows × 9 columns</p>\n",
       "</div>"
      ],
      "text/plain": [
       "    customerID        loanId appilcationDate  LoanNumber  LoanAmount  \\\n",
       "0    839247458  302953235622      2018-12-21           1      7500.0   \n",
       "1    217540860  302960101337      2018-12-23           1      7500.0   \n",
       "2    522238092  303016988846      2019-01-08           1      7500.0   \n",
       "3    096754469  302999605504      2019-01-04           1      7500.0   \n",
       "4    410354345  302951945878      2018-12-21           1      7500.0   \n",
       "..         ...           ...             ...         ...         ...   \n",
       "995  964510149     302636726      2018-01-15           2      7500.0   \n",
       "996  251997198     302772445      2018-02-13           1      7500.0   \n",
       "997  899011279     302585439      2018-01-03           3      7500.0   \n",
       "998  648637210  302788322114      2018-11-19           1      7500.0   \n",
       "999  464788691     302683579      2018-01-24           1      7500.0   \n",
       "\n",
       "     InterestRate  TermDays repaymentDueDate repaymentPaidDate  \n",
       "0            30.0        30       2019-01-20        2019-01-16  \n",
       "1            30.0        30       2019-01-22        2018-12-29  \n",
       "2            30.0        30       2019-02-07        2019-01-08  \n",
       "3            30.0        30       2019-02-03        2019-01-08  \n",
       "4            30.0        30       2019-01-20        2019-01-17  \n",
       "..            ...       ...              ...               ...  \n",
       "995          30.0        30       2018-02-14        2018-01-20  \n",
       "996          30.0        30       2018-03-15        2018-03-14  \n",
       "997          30.0        30       2018-02-02        2018-10-12  \n",
       "998          30.0        30       2018-12-19        2018-12-17  \n",
       "999          30.0        30       2018-02-24        2018-02-11  \n",
       "\n",
       "[1000 rows x 9 columns]"
      ]
     },
     "execution_count": 1,
     "metadata": {},
     "output_type": "execute_result"
    }
   ],
   "source": [
    "# Add your code for Question 1 in this code block\n",
    "import pandas as pd\n",
    "import matplotlib.pyplot as plt\n",
    "import numpy as np \n",
    "data = pd.read_csv(\"application_data.csv\")\n",
    "data"
   ]
  },
  {
   "cell_type": "code",
   "execution_count": 2,
   "metadata": {},
   "outputs": [
    {
     "data": {
      "text/html": [
       "<div>\n",
       "<style scoped>\n",
       "    .dataframe tbody tr th:only-of-type {\n",
       "        vertical-align: middle;\n",
       "    }\n",
       "\n",
       "    .dataframe tbody tr th {\n",
       "        vertical-align: top;\n",
       "    }\n",
       "\n",
       "    .dataframe thead th {\n",
       "        text-align: right;\n",
       "    }\n",
       "</style>\n",
       "<table border=\"1\" class=\"dataframe\">\n",
       "  <thead>\n",
       "    <tr style=\"text-align: right;\">\n",
       "      <th></th>\n",
       "      <th>LoanNumber</th>\n",
       "      <th>LoanAmount</th>\n",
       "      <th>InterestRate</th>\n",
       "      <th>TermDays</th>\n",
       "    </tr>\n",
       "  </thead>\n",
       "  <tbody>\n",
       "    <tr>\n",
       "      <th>count</th>\n",
       "      <td>1000.000000</td>\n",
       "      <td>1000.000000</td>\n",
       "      <td>1000.000000</td>\n",
       "      <td>1000.00000</td>\n",
       "    </tr>\n",
       "    <tr>\n",
       "      <th>mean</th>\n",
       "      <td>2.691000</td>\n",
       "      <td>13828.080000</td>\n",
       "      <td>23.061700</td>\n",
       "      <td>42.07500</td>\n",
       "    </tr>\n",
       "    <tr>\n",
       "      <th>std</th>\n",
       "      <td>2.789139</td>\n",
       "      <td>19362.887991</td>\n",
       "      <td>8.415945</td>\n",
       "      <td>34.79339</td>\n",
       "    </tr>\n",
       "    <tr>\n",
       "      <th>min</th>\n",
       "      <td>1.000000</td>\n",
       "      <td>80.000000</td>\n",
       "      <td>5.000000</td>\n",
       "      <td>15.00000</td>\n",
       "    </tr>\n",
       "    <tr>\n",
       "      <th>25%</th>\n",
       "      <td>1.000000</td>\n",
       "      <td>7500.000000</td>\n",
       "      <td>15.000000</td>\n",
       "      <td>30.00000</td>\n",
       "    </tr>\n",
       "    <tr>\n",
       "      <th>50%</th>\n",
       "      <td>2.000000</td>\n",
       "      <td>7500.000000</td>\n",
       "      <td>30.000000</td>\n",
       "      <td>30.00000</td>\n",
       "    </tr>\n",
       "    <tr>\n",
       "      <th>75%</th>\n",
       "      <td>3.000000</td>\n",
       "      <td>11000.000000</td>\n",
       "      <td>30.000000</td>\n",
       "      <td>45.00000</td>\n",
       "    </tr>\n",
       "    <tr>\n",
       "      <th>max</th>\n",
       "      <td>26.000000</td>\n",
       "      <td>166000.000000</td>\n",
       "      <td>36.000000</td>\n",
       "      <td>180.00000</td>\n",
       "    </tr>\n",
       "  </tbody>\n",
       "</table>\n",
       "</div>"
      ],
      "text/plain": [
       "        LoanNumber     LoanAmount  InterestRate    TermDays\n",
       "count  1000.000000    1000.000000   1000.000000  1000.00000\n",
       "mean      2.691000   13828.080000     23.061700    42.07500\n",
       "std       2.789139   19362.887991      8.415945    34.79339\n",
       "min       1.000000      80.000000      5.000000    15.00000\n",
       "25%       1.000000    7500.000000     15.000000    30.00000\n",
       "50%       2.000000    7500.000000     30.000000    30.00000\n",
       "75%       3.000000   11000.000000     30.000000    45.00000\n",
       "max      26.000000  166000.000000     36.000000   180.00000"
      ]
     },
     "execution_count": 2,
     "metadata": {},
     "output_type": "execute_result"
    }
   ],
   "source": [
    "data.describe()"
   ]
  },
  {
   "cell_type": "markdown",
   "metadata": {},
   "source": [
    "---"
   ]
  },
  {
   "cell_type": "markdown",
   "metadata": {},
   "source": [
    "\n",
    "### Step 2 (this step does not have an answer in the answer form)"
   ]
  },
  {
   "cell_type": "markdown",
   "metadata": {},
   "source": [
    "Use Pandas to read in the csv titled `application_data.csv` as a Panda's dataframe. Once you have read in the data as a dataframe use Panda's `head()` function to show an overview of the data."
   ]
  },
  {
   "cell_type": "code",
   "execution_count": 3,
   "metadata": {},
   "outputs": [
    {
     "name": "stdout",
     "output_type": "stream",
     "text": [
      "<class 'pandas.core.frame.DataFrame'>\n",
      "RangeIndex: 1000 entries, 0 to 999\n",
      "Data columns (total 9 columns):\n",
      " #   Column             Non-Null Count  Dtype  \n",
      "---  ------             --------------  -----  \n",
      " 0   customerID         1000 non-null   object \n",
      " 1   loanId             1000 non-null   object \n",
      " 2   appilcationDate    1000 non-null   object \n",
      " 3   LoanNumber         1000 non-null   int64  \n",
      " 4   LoanAmount         1000 non-null   float64\n",
      " 5   InterestRate       1000 non-null   float64\n",
      " 6   TermDays           1000 non-null   int64  \n",
      " 7   repaymentDueDate   1000 non-null   object \n",
      " 8   repaymentPaidDate  1000 non-null   object \n",
      "dtypes: float64(2), int64(2), object(5)\n",
      "memory usage: 70.4+ KB\n"
     ]
    }
   ],
   "source": [
    "# Add your code for Question 2 in this code block\n",
    "data.info()"
   ]
  },
  {
   "cell_type": "markdown",
   "metadata": {},
   "source": [
    "You should now be able to see that the dataset contains information relating to loans that have been disbursed. Each row of the data is specific to a particular loan and displays the customer's ID that took out the loan, a unique loan ID, the date when the client applied for the loan, the loan number of the specific loan (how many loans the client has now taken out), the amount, interest rate, term days, the date when the loan repayment was due and the date the loan was actually repaid."
   ]
  },
  {
   "cell_type": "markdown",
   "metadata": {},
   "source": [
    "---"
   ]
  },
  {
   "cell_type": "markdown",
   "metadata": {},
   "source": [
    "### Question 1"
   ]
  },
  {
   "cell_type": "markdown",
   "metadata": {},
   "source": [
    "Convert `appilcationDate`, `repaymentDueDate` and `repaymentPaidDate` in the dataframes to datetimes. "
   ]
  },
  {
   "cell_type": "code",
   "execution_count": 4,
   "metadata": {},
   "outputs": [],
   "source": [
    "# convert to dates\n",
    "data['appilcationDate'] = pd.to_datetime(data['appilcationDate'])\n",
    "data['repaymentDueDate'] = pd.to_datetime(data['repaymentDueDate'])\n",
    "data['repaymentPaidDate'] = pd.to_datetime(data['repaymentPaidDate'])"
   ]
  },
  {
   "cell_type": "code",
   "execution_count": 5,
   "metadata": {},
   "outputs": [
    {
     "name": "stdout",
     "output_type": "stream",
     "text": [
      "<class 'pandas.core.frame.DataFrame'>\n",
      "RangeIndex: 1000 entries, 0 to 999\n",
      "Data columns (total 9 columns):\n",
      " #   Column             Non-Null Count  Dtype         \n",
      "---  ------             --------------  -----         \n",
      " 0   customerID         1000 non-null   object        \n",
      " 1   loanId             1000 non-null   object        \n",
      " 2   appilcationDate    1000 non-null   datetime64[ns]\n",
      " 3   LoanNumber         1000 non-null   int64         \n",
      " 4   LoanAmount         1000 non-null   float64       \n",
      " 5   InterestRate       1000 non-null   float64       \n",
      " 6   TermDays           1000 non-null   int64         \n",
      " 7   repaymentDueDate   1000 non-null   datetime64[ns]\n",
      " 8   repaymentPaidDate  1000 non-null   datetime64[ns]\n",
      "dtypes: datetime64[ns](3), float64(2), int64(2), object(2)\n",
      "memory usage: 70.4+ KB\n"
     ]
    }
   ],
   "source": [
    "data.info()"
   ]
  },
  {
   "cell_type": "markdown",
   "metadata": {},
   "source": [
    "Now that the dates have been converted, How many `unique`data types are contained within the application dataset?"
   ]
  },
  {
   "cell_type": "code",
   "execution_count": 6,
   "metadata": {},
   "outputs": [
    {
     "data": {
      "text/plain": [
       "4"
      ]
     },
     "execution_count": 6,
     "metadata": {},
     "output_type": "execute_result"
    }
   ],
   "source": [
    "# data types\n",
    "len(data.dtypes.unique())"
   ]
  },
  {
   "cell_type": "markdown",
   "metadata": {},
   "source": [
    "### Question 2"
   ]
  },
  {
   "cell_type": "markdown",
   "metadata": {},
   "source": [
    "Please calculate the `average` loan amount, interest rate and termdays for all the loans in the dataset? `Round` all number to two decimal places."
   ]
  },
  {
   "cell_type": "code",
   "execution_count": 12,
   "metadata": {},
   "outputs": [
    {
     "data": {
      "text/plain": [
       "13828.08"
      ]
     },
     "execution_count": 12,
     "metadata": {},
     "output_type": "execute_result"
    }
   ],
   "source": [
    "# 2a avg loan amount\n",
    "data.columns\n",
    "avg_loan_amount = data.LoanAmount.mean()\n",
    "round(avg_loan_amount"
   ]
  },
  {
   "cell_type": "code",
   "execution_count": 8,
   "metadata": {},
   "outputs": [
    {
     "data": {
      "text/plain": [
       "Index(['customerID', 'loanId', 'appilcationDate', 'LoanNumber', 'LoanAmount',\n",
       "       'InterestRate', 'TermDays', 'repaymentDueDate', 'repaymentPaidDate'],\n",
       "      dtype='object')"
      ]
     },
     "execution_count": 8,
     "metadata": {},
     "output_type": "execute_result"
    }
   ],
   "source": [
    "data.columns"
   ]
  },
  {
   "cell_type": "code",
   "execution_count": 20,
   "metadata": {},
   "outputs": [
    {
     "data": {
      "text/plain": [
       "23.06"
      ]
     },
     "execution_count": 20,
     "metadata": {},
     "output_type": "execute_result"
    }
   ],
   "source": [
    "# 2b avg interest rate\n",
    "data.columns\n",
    "mean_interest_rate = data.InterestRate.mean()\n",
    "round(mean_interest_rate, 2)"
   ]
  },
  {
   "cell_type": "code",
   "execution_count": 10,
   "metadata": {},
   "outputs": [
    {
     "data": {
      "text/plain": [
       "42.075"
      ]
     },
     "execution_count": 10,
     "metadata": {},
     "output_type": "execute_result"
    }
   ],
   "source": [
    "# 2c avg term days \n",
    "data.columns\n",
    "avg_termdays = data.TermDays.mean()\n",
    "avg_termdays"
   ]
  },
  {
   "cell_type": "markdown",
   "metadata": {},
   "source": [
    "---"
   ]
  },
  {
   "cell_type": "markdown",
   "metadata": {},
   "source": [
    "### Question 3"
   ]
  },
  {
   "cell_type": "markdown",
   "metadata": {},
   "source": [
    "Please create a new column called `dateDifference` which needs to contains the number of days between when the loan was repaid and when it was due to be repaid. \n",
    "\n",
    "Count the number of loans that were paid more than 3 days late. This can be done by first creating a dataframe only containing the loans that were paid more than 3 days late. "
   ]
  },
  {
   "cell_type": "code",
   "execution_count": 12,
   "metadata": {},
   "outputs": [],
   "source": [
    "# date difference\n",
    "data[\"dateDifference\"] = data[\"repaymentPaidDate\"] - data[\"repaymentDueDate\"]\n",
    "# data\n",
    "# number of loans more than 3 days late\n",
    "late_date_mask = data.dateDifference.dt.days > 3 # Take note of the dt.days  \n",
    "# data[\"new_date_without_days\"] = data.dateDifference.dt.days\n",
    "# data\n",
    "# late_date_mask\n",
    "# data[late_date_mask]\n",
    "#new table of people who payed later than 3days\n",
    "# data.info()"
   ]
  },
  {
   "cell_type": "markdown",
   "metadata": {},
   "source": [
    "---"
   ]
  },
  {
   "cell_type": "markdown",
   "metadata": {},
   "source": [
    "### Question 4"
   ]
  },
  {
   "cell_type": "markdown",
   "metadata": {},
   "source": [
    "Please group the dataset by `TermDays` and calculate the `mean` loan amount and the `standard deviation` of loan amount within each term.\n",
    "\n",
    "What is the mean loan amount in 30-day loans and what is the standard deviation of  loan amount in 90-day loans? Please give your answers to the nearest two decimal places. "
   ]
  },
  {
   "cell_type": "code",
   "execution_count": 13,
   "metadata": {},
   "outputs": [
    {
     "data": {
      "text/plain": [
       "7941.964285714285"
      ]
     },
     "execution_count": 13,
     "metadata": {},
     "output_type": "execute_result"
    }
   ],
   "source": [
    "# mean loan amount in 30-day loans and standard deviation of loan amount in 90-day loans\n",
    "# data.groupby(\"TermDays\").mean()\n",
    "# grouped_data = data.groupby(\"TermDays\").std().reset_index()\n",
    "# round(grouped_data[grouped_data[\"TermDays\"] == 30].LoanAmount, 2)\n",
    "\n",
    "grouped_data = data.groupby(\"TermDays\").mean()#.reset_index()\n",
    "# round(grouped_data[grouped_data[\"TermDays\"] == 90].LoanAmount, 2)\n",
    "# standard deviation of loan amount in 90-day loans\n",
    "grouped_data.loc[30].LoanAmount"
   ]
  },
  {
   "cell_type": "markdown",
   "metadata": {},
   "source": [
    "### Question 5"
   ]
  },
  {
   "cell_type": "markdown",
   "metadata": {},
   "source": [
    "`Late` loans are defined as loans that were paid `more than 3 days` after their due date. Please find the average number of days that these loans were paid beyond their due date for each `week of the year`. This will require you to break all `appilcationDate's` down into the week of the year they were made and then perform a group by. \n",
    "\n",
    "What is the average number of days that `late` loans applied for in the second week of the year were paid late? Please sumbit your answer rounded to two decimal places. "
   ]
  },
  {
   "cell_type": "code",
   "execution_count": 14,
   "metadata": {},
   "outputs": [
    {
     "name": "stderr",
     "output_type": "stream",
     "text": [
      "C:\\ProgramData\\Anaconda3\\lib\\site-packages\\ipykernel_launcher.py:3: SettingWithCopyWarning: \n",
      "A value is trying to be set on a copy of a slice from a DataFrame.\n",
      "Try using .loc[row_indexer,col_indexer] = value instead\n",
      "\n",
      "See the caveats in the documentation: https://pandas.pydata.org/pandas-docs/stable/user_guide/indexing.html#returning-a-view-versus-a-copy\n",
      "  This is separate from the ipykernel package so we can avoid doing imports until\n",
      "C:\\ProgramData\\Anaconda3\\lib\\site-packages\\ipykernel_launcher.py:4: FutureWarning: Series.dt.weekofyear and Series.dt.week have been deprecated.  Please use Series.dt.isocalendar().week instead.\n",
      "  after removing the cwd from sys.path.\n",
      "C:\\ProgramData\\Anaconda3\\lib\\site-packages\\ipykernel_launcher.py:4: SettingWithCopyWarning: \n",
      "A value is trying to be set on a copy of a slice from a DataFrame.\n",
      "Try using .loc[row_indexer,col_indexer] = value instead\n",
      "\n",
      "See the caveats in the documentation: https://pandas.pydata.org/pandas-docs/stable/user_guide/indexing.html#returning-a-view-versus-a-copy\n",
      "  after removing the cwd from sys.path.\n"
     ]
    },
    {
     "data": {
      "text/plain": [
       "45.75"
      ]
     },
     "execution_count": 14,
     "metadata": {},
     "output_type": "execute_result"
    }
   ],
   "source": [
    "# week of year and average number of late days\n",
    "late_payments = data[late_date_mask]\n",
    "late_payments[\"late_days\"] = late_payments.dateDifference.dt.days\n",
    "late_payments[\"week\"] = late_payments.appilcationDate.dt.week\n",
    "grouped_late_pays = late_payments.groupby(\"week\").mean().reset_index()\n",
    "\n",
    "grouped_late_pays.iloc[1].late_days"
   ]
  },
  {
   "cell_type": "code",
   "execution_count": 15,
   "metadata": {},
   "outputs": [
    {
     "name": "stderr",
     "output_type": "stream",
     "text": [
      "C:\\ProgramData\\Anaconda3\\lib\\site-packages\\ipykernel_launcher.py:4: SettingWithCopyWarning: \n",
      "A value is trying to be set on a copy of a slice from a DataFrame.\n",
      "Try using .loc[row_indexer,col_indexer] = value instead\n",
      "\n",
      "See the caveats in the documentation: https://pandas.pydata.org/pandas-docs/stable/user_guide/indexing.html#returning-a-view-versus-a-copy\n",
      "  after removing the cwd from sys.path.\n"
     ]
    },
    {
     "ename": "AttributeError",
     "evalue": "'DataFrame' object has no attribute 'new_date_without_days'",
     "output_type": "error",
     "traceback": [
      "\u001b[1;31m---------------------------------------------------------------------------\u001b[0m",
      "\u001b[1;31mAttributeError\u001b[0m                            Traceback (most recent call last)",
      "\u001b[1;32m<ipython-input-15-093a50b073d4>\u001b[0m in \u001b[0;36m<module>\u001b[1;34m\u001b[0m\n\u001b[0;32m      6\u001b[0m \u001b[0mgrouped_late_pays\u001b[0m \u001b[1;33m=\u001b[0m \u001b[0mlate_payments\u001b[0m\u001b[1;33m.\u001b[0m\u001b[0mgroupby\u001b[0m\u001b[1;33m(\u001b[0m\u001b[1;34m\"month\"\u001b[0m\u001b[1;33m)\u001b[0m\u001b[1;33m.\u001b[0m\u001b[0mmean\u001b[0m\u001b[1;33m(\u001b[0m\u001b[1;33m)\u001b[0m\u001b[1;33m.\u001b[0m\u001b[0mreset_index\u001b[0m\u001b[1;33m(\u001b[0m\u001b[1;33m)\u001b[0m\u001b[1;33m\u001b[0m\u001b[1;33m\u001b[0m\u001b[0m\n\u001b[0;32m      7\u001b[0m \u001b[1;33m\u001b[0m\u001b[0m\n\u001b[1;32m----> 8\u001b[1;33m \u001b[0mgrouped_late_pays\u001b[0m\u001b[1;33m[\u001b[0m\u001b[0mgrouped_late_pays\u001b[0m\u001b[1;33m.\u001b[0m\u001b[0mnew_date_without_days\u001b[0m \u001b[1;33m==\u001b[0m \u001b[0mgrouped_late_pays\u001b[0m\u001b[1;33m.\u001b[0m\u001b[0mnew_date_without_days\u001b[0m\u001b[1;33m.\u001b[0m\u001b[0mmin\u001b[0m\u001b[1;33m(\u001b[0m\u001b[1;33m)\u001b[0m\u001b[1;33m]\u001b[0m\u001b[1;33m.\u001b[0m\u001b[0mmonth\u001b[0m\u001b[1;33m\u001b[0m\u001b[1;33m\u001b[0m\u001b[0m\n\u001b[0m\u001b[0;32m      9\u001b[0m \u001b[1;33m\u001b[0m\u001b[0m\n\u001b[0;32m     10\u001b[0m \u001b[0mgrouped_late_pays\u001b[0m\u001b[1;33m[\u001b[0m\u001b[1;34m\"month text\"\u001b[0m\u001b[1;33m]\u001b[0m \u001b[1;33m=\u001b[0m \u001b[0mgrouped_late_pays\u001b[0m\u001b[1;33m.\u001b[0m\u001b[0mmonth\u001b[0m\u001b[1;33m.\u001b[0m\u001b[0mastype\u001b[0m\u001b[1;33m(\u001b[0m\u001b[1;34m\"str\"\u001b[0m\u001b[1;33m)\u001b[0m \u001b[1;33m+\u001b[0m \u001b[1;34m\" month\"\u001b[0m\u001b[1;33m\u001b[0m\u001b[1;33m\u001b[0m\u001b[0m\n",
      "\u001b[1;32mC:\\ProgramData\\Anaconda3\\lib\\site-packages\\pandas\\core\\generic.py\u001b[0m in \u001b[0;36m__getattr__\u001b[1;34m(self, name)\u001b[0m\n\u001b[0;32m   5134\u001b[0m             \u001b[1;32mif\u001b[0m \u001b[0mself\u001b[0m\u001b[1;33m.\u001b[0m\u001b[0m_info_axis\u001b[0m\u001b[1;33m.\u001b[0m\u001b[0m_can_hold_identifiers_and_holds_name\u001b[0m\u001b[1;33m(\u001b[0m\u001b[0mname\u001b[0m\u001b[1;33m)\u001b[0m\u001b[1;33m:\u001b[0m\u001b[1;33m\u001b[0m\u001b[1;33m\u001b[0m\u001b[0m\n\u001b[0;32m   5135\u001b[0m                 \u001b[1;32mreturn\u001b[0m \u001b[0mself\u001b[0m\u001b[1;33m[\u001b[0m\u001b[0mname\u001b[0m\u001b[1;33m]\u001b[0m\u001b[1;33m\u001b[0m\u001b[1;33m\u001b[0m\u001b[0m\n\u001b[1;32m-> 5136\u001b[1;33m             \u001b[1;32mreturn\u001b[0m \u001b[0mobject\u001b[0m\u001b[1;33m.\u001b[0m\u001b[0m__getattribute__\u001b[0m\u001b[1;33m(\u001b[0m\u001b[0mself\u001b[0m\u001b[1;33m,\u001b[0m \u001b[0mname\u001b[0m\u001b[1;33m)\u001b[0m\u001b[1;33m\u001b[0m\u001b[1;33m\u001b[0m\u001b[0m\n\u001b[0m\u001b[0;32m   5137\u001b[0m \u001b[1;33m\u001b[0m\u001b[0m\n\u001b[0;32m   5138\u001b[0m     \u001b[1;32mdef\u001b[0m \u001b[0m__setattr__\u001b[0m\u001b[1;33m(\u001b[0m\u001b[0mself\u001b[0m\u001b[1;33m,\u001b[0m \u001b[0mname\u001b[0m\u001b[1;33m:\u001b[0m \u001b[0mstr\u001b[0m\u001b[1;33m,\u001b[0m \u001b[0mvalue\u001b[0m\u001b[1;33m)\u001b[0m \u001b[1;33m->\u001b[0m \u001b[1;32mNone\u001b[0m\u001b[1;33m:\u001b[0m\u001b[1;33m\u001b[0m\u001b[1;33m\u001b[0m\u001b[0m\n",
      "\u001b[1;31mAttributeError\u001b[0m: 'DataFrame' object has no attribute 'new_date_without_days'"
     ]
    }
   ],
   "source": [
    "# week of year and average number of late days\n",
    "late_payments = data[late_date_mask]\n",
    "\n",
    "late_payments[\"month\"] = late_payments.appilcationDate.dt.month\n",
    "\n",
    "grouped_late_pays = late_payments.groupby(\"month\").mean().reset_index()\n",
    "\n",
    "grouped_late_pays[grouped_late_pays.new_date_without_days == grouped_late_pays.new_date_without_days.min()].month\n",
    "\n",
    "grouped_late_pays[\"month text\"] = grouped_late_pays.month.astype(\"str\") + \" month\"\n",
    "grouped_late_pays"
   ]
  },
  {
   "cell_type": "markdown",
   "metadata": {},
   "source": [
    "---"
   ]
  },
  {
   "cell_type": "markdown",
   "metadata": {},
   "source": [
    "### The End"
   ]
  },
  {
   "cell_type": "markdown",
   "metadata": {},
   "source": [
    "Thank you for completing the challenge. Please make sure you have submitted all of your answers to the arise Challenge Answers form. "
   ]
  },
  {
   "cell_type": "markdown",
   "metadata": {},
   "source": [
    "### Notebook\n",
    "Please save you notebook as `yourEmail.ipynb` where you replace `yourEmail` with your actual email address and attach it to the arise Challenge Answers form. "
   ]
  },
  {
   "cell_type": "code",
   "execution_count": 16,
   "metadata": {},
   "outputs": [
    {
     "name": "stdout",
     "output_type": "stream",
     "text": [
      "\n",
      "Usage:   \n",
      "  pip <command> [options]\n",
      "\n",
      "Commands:\n",
      "  install                     Install packages.\n",
      "  download                    Download packages.\n",
      "  uninstall                   Uninstall packages.\n",
      "  freeze                      Output installed packages in requirements format.\n",
      "  list                        List installed packages.\n",
      "  show                        Show information about installed packages.\n",
      "  check                       Verify installed packages have compatible dependencies.\n",
      "  config                      Manage local and global configuration.\n",
      "  search                      Search PyPI for packages.\n",
      "  wheel                       Build wheels from your requirements.\n",
      "  hash                        Compute hashes of package archives.\n",
      "  completion                  A helper command used for command completion.\n",
      "  debug                       Show information useful for debugging.\n",
      "  help                        Show help for commands.\n",
      "\n",
      "General Options:\n",
      "  -h, --help                  Show help.\n",
      "  --isolated                  Run pip in an isolated mode, ignoring\n",
      "                              environment variables and user configuration.\n",
      "  -v, --verbose               Give more output. Option is additive, and can be\n",
      "                              used up to 3 times.\n",
      "  -V, --version               Show version and exit.\n",
      "  -q, --quiet                 Give less output. Option is additive, and can be\n",
      "                              used up to 3 times (corresponding to WARNING,\n",
      "                              ERROR, and CRITICAL logging levels).\n",
      "  --log <path>                Path to a verbose appending log.\n",
      "  --proxy <proxy>             Specify a proxy in the form\n",
      "                              [user:passwd@]proxy.server:port.\n",
      "  --retries <retries>         Maximum number of retries each connection should\n",
      "                              attempt (default 5 times).\n",
      "  --timeout <sec>             Set the socket timeout (default 15 seconds).\n",
      "  --exists-action <action>    Default action when a path already exists:\n",
      "                              (s)witch, (i)gnore, (w)ipe, (b)ackup, (a)bort.\n",
      "  --trusted-host <hostname>   Mark this host or host:port pair as trusted,\n",
      "                              even though it does not have valid or any HTTPS.\n",
      "  --cert <path>               Path to alternate CA bundle.\n",
      "  --client-cert <path>        Path to SSL client certificate, a single file\n",
      "                              containing the private key and the certificate\n",
      "                              in PEM format.\n",
      "  --cache-dir <dir>           Store the cache data in <dir>.\n",
      "  --no-cache-dir              Disable the cache.\n",
      "  --disable-pip-version-check\n",
      "                              Don't periodically check PyPI to determine\n",
      "                              whether a new version of pip is available for\n",
      "                              download. Implied with --no-index.\n",
      "  --no-color                  Suppress colored output\n"
     ]
    }
   ],
   "source": [
    "!pip"
   ]
  },
  {
   "cell_type": "markdown",
   "metadata": {},
   "source": [
    "## ASSIGNMENT SOLUTIONS\n",
    "\n",
    "* From the application_dat.csv get the month total loan amount requested, and also the month with the overall total loan requests for  the period between june-2018 to december 2018\n",
    "<hr>\n",
    "* Also get the monthly total loan default in days for each, and also the month with the overall total highest default for  the same period.\n",
    "\n"
   ]
  },
  {
   "cell_type": "code",
   "execution_count": 17,
   "metadata": {},
   "outputs": [
    {
     "data": {
      "text/html": [
       "<div>\n",
       "<style scoped>\n",
       "    .dataframe tbody tr th:only-of-type {\n",
       "        vertical-align: middle;\n",
       "    }\n",
       "\n",
       "    .dataframe tbody tr th {\n",
       "        vertical-align: top;\n",
       "    }\n",
       "\n",
       "    .dataframe thead th {\n",
       "        text-align: right;\n",
       "    }\n",
       "</style>\n",
       "<table border=\"1\" class=\"dataframe\">\n",
       "  <thead>\n",
       "    <tr style=\"text-align: right;\">\n",
       "      <th></th>\n",
       "      <th>customerID</th>\n",
       "      <th>loanId</th>\n",
       "      <th>appilcationDate</th>\n",
       "      <th>LoanNumber</th>\n",
       "      <th>LoanAmount</th>\n",
       "      <th>InterestRate</th>\n",
       "      <th>TermDays</th>\n",
       "      <th>repaymentDueDate</th>\n",
       "      <th>repaymentPaidDate</th>\n",
       "      <th>dateDifference</th>\n",
       "    </tr>\n",
       "  </thead>\n",
       "  <tbody>\n",
       "    <tr>\n",
       "      <th>0</th>\n",
       "      <td>839247458</td>\n",
       "      <td>302953235622</td>\n",
       "      <td>2018-12-21</td>\n",
       "      <td>1</td>\n",
       "      <td>7500.0</td>\n",
       "      <td>30.0</td>\n",
       "      <td>30</td>\n",
       "      <td>2019-01-20</td>\n",
       "      <td>2019-01-16</td>\n",
       "      <td>-4 days</td>\n",
       "    </tr>\n",
       "    <tr>\n",
       "      <th>1</th>\n",
       "      <td>217540860</td>\n",
       "      <td>302960101337</td>\n",
       "      <td>2018-12-23</td>\n",
       "      <td>1</td>\n",
       "      <td>7500.0</td>\n",
       "      <td>30.0</td>\n",
       "      <td>30</td>\n",
       "      <td>2019-01-22</td>\n",
       "      <td>2018-12-29</td>\n",
       "      <td>-24 days</td>\n",
       "    </tr>\n",
       "    <tr>\n",
       "      <th>2</th>\n",
       "      <td>522238092</td>\n",
       "      <td>303016988846</td>\n",
       "      <td>2019-01-08</td>\n",
       "      <td>1</td>\n",
       "      <td>7500.0</td>\n",
       "      <td>30.0</td>\n",
       "      <td>30</td>\n",
       "      <td>2019-02-07</td>\n",
       "      <td>2019-01-08</td>\n",
       "      <td>-30 days</td>\n",
       "    </tr>\n",
       "    <tr>\n",
       "      <th>3</th>\n",
       "      <td>096754469</td>\n",
       "      <td>302999605504</td>\n",
       "      <td>2019-01-04</td>\n",
       "      <td>1</td>\n",
       "      <td>7500.0</td>\n",
       "      <td>30.0</td>\n",
       "      <td>30</td>\n",
       "      <td>2019-02-03</td>\n",
       "      <td>2019-01-08</td>\n",
       "      <td>-26 days</td>\n",
       "    </tr>\n",
       "    <tr>\n",
       "      <th>4</th>\n",
       "      <td>410354345</td>\n",
       "      <td>302951945878</td>\n",
       "      <td>2018-12-21</td>\n",
       "      <td>1</td>\n",
       "      <td>7500.0</td>\n",
       "      <td>30.0</td>\n",
       "      <td>30</td>\n",
       "      <td>2019-01-20</td>\n",
       "      <td>2019-01-17</td>\n",
       "      <td>-3 days</td>\n",
       "    </tr>\n",
       "  </tbody>\n",
       "</table>\n",
       "</div>"
      ],
      "text/plain": [
       "  customerID        loanId appilcationDate  LoanNumber  LoanAmount  \\\n",
       "0  839247458  302953235622      2018-12-21           1      7500.0   \n",
       "1  217540860  302960101337      2018-12-23           1      7500.0   \n",
       "2  522238092  303016988846      2019-01-08           1      7500.0   \n",
       "3  096754469  302999605504      2019-01-04           1      7500.0   \n",
       "4  410354345  302951945878      2018-12-21           1      7500.0   \n",
       "\n",
       "   InterestRate  TermDays repaymentDueDate repaymentPaidDate dateDifference  \n",
       "0          30.0        30       2019-01-20        2019-01-16        -4 days  \n",
       "1          30.0        30       2019-01-22        2018-12-29       -24 days  \n",
       "2          30.0        30       2019-02-07        2019-01-08       -30 days  \n",
       "3          30.0        30       2019-02-03        2019-01-08       -26 days  \n",
       "4          30.0        30       2019-01-20        2019-01-17        -3 days  "
      ]
     },
     "execution_count": 17,
     "metadata": {},
     "output_type": "execute_result"
    }
   ],
   "source": [
    "data.head() # CHECK DATA AGAIN TO RE-GRASP A FEEL OF THE DATASET "
   ]
  },
  {
   "cell_type": "code",
   "execution_count": 18,
   "metadata": {},
   "outputs": [],
   "source": [
    "data = data[(data[\"appilcationDate\"] > \"2018-06-01\") & (data[\"appilcationDate\"] < \"2019-01-01\")]# FILTER THE MONTHS REQUIRED AS SPECIFIED IN THE PROBLEM BY GETTING THE MONTHS LESS THE THE MAX BUT GREATER THAN THE MIN OFTHE DATASET"
   ]
  },
  {
   "cell_type": "code",
   "execution_count": 19,
   "metadata": {},
   "outputs": [
    {
     "name": "stderr",
     "output_type": "stream",
     "text": [
      "C:\\ProgramData\\Anaconda3\\lib\\site-packages\\ipykernel_launcher.py:1: SettingWithCopyWarning: \n",
      "A value is trying to be set on a copy of a slice from a DataFrame.\n",
      "Try using .loc[row_indexer,col_indexer] = value instead\n",
      "\n",
      "See the caveats in the documentation: https://pandas.pydata.org/pandas-docs/stable/user_guide/indexing.html#returning-a-view-versus-a-copy\n",
      "  \"\"\"Entry point for launching an IPython kernel.\n"
     ]
    }
   ],
   "source": [
    "data[\"months\"] = data[\"appilcationDate\"].dt.month # SET THE MONTH NUMBER AS A NEW COLUMN WHICH WILL BE USED FOR A GROUPBY OPERATION"
   ]
  },
  {
   "cell_type": "code",
   "execution_count": 20,
   "metadata": {},
   "outputs": [],
   "source": [
    "months_data= data.groupby(\"months\").sum().reset_index() # GROUP DATA BY THE MONTH NUMBERS WHICH HAVE BEEN EXTRACTED"
   ]
  },
  {
   "cell_type": "code",
   "execution_count": 21,
   "metadata": {},
   "outputs": [],
   "source": [
    "# A MONTHS NAME DICTIONARY WHICH WILL BE LATER USED TO REPLACE THE NUMERIC VALUES IN THE DATASET FOR BETTER UNDERSTANDING AND READABILITY\n",
    "months_text = {1:\"January\",\n",
    "2:\"February\",\n",
    "3:\"March\",\n",
    "4:\"April\",\n",
    "5:\"May\",\n",
    "6:\"June\",\n",
    "7:\"July\",\n",
    "8:\"August\",\n",
    "9:\"September\",\n",
    "10:\"October\",\n",
    "11:\"November\",\n",
    "12:\"December\"}"
   ]
  },
  {
   "cell_type": "code",
   "execution_count": 22,
   "metadata": {},
   "outputs": [],
   "source": [
    "months_data[\"months_name\"] = months_data.months.replace(months_text) # REPLACE THE MONTH NUMBERS WITH MONTH TEXT AS STATED ABOVE"
   ]
  },
  {
   "cell_type": "code",
   "execution_count": 23,
   "metadata": {},
   "outputs": [
    {
     "data": {
      "text/html": [
       "<div>\n",
       "<style scoped>\n",
       "    .dataframe tbody tr th:only-of-type {\n",
       "        vertical-align: middle;\n",
       "    }\n",
       "\n",
       "    .dataframe tbody tr th {\n",
       "        vertical-align: top;\n",
       "    }\n",
       "\n",
       "    .dataframe thead th {\n",
       "        text-align: right;\n",
       "    }\n",
       "</style>\n",
       "<table border=\"1\" class=\"dataframe\">\n",
       "  <thead>\n",
       "    <tr style=\"text-align: right;\">\n",
       "      <th></th>\n",
       "      <th>months</th>\n",
       "      <th>months_name</th>\n",
       "      <th>LoanAmount</th>\n",
       "    </tr>\n",
       "  </thead>\n",
       "  <tbody>\n",
       "    <tr>\n",
       "      <th>0</th>\n",
       "      <td>6</td>\n",
       "      <td>June</td>\n",
       "      <td>165000.0</td>\n",
       "    </tr>\n",
       "    <tr>\n",
       "      <th>1</th>\n",
       "      <td>7</td>\n",
       "      <td>July</td>\n",
       "      <td>168500.0</td>\n",
       "    </tr>\n",
       "    <tr>\n",
       "      <th>2</th>\n",
       "      <td>8</td>\n",
       "      <td>August</td>\n",
       "      <td>172500.0</td>\n",
       "    </tr>\n",
       "    <tr>\n",
       "      <th>3</th>\n",
       "      <td>9</td>\n",
       "      <td>September</td>\n",
       "      <td>226500.0</td>\n",
       "    </tr>\n",
       "    <tr>\n",
       "      <th>4</th>\n",
       "      <td>10</td>\n",
       "      <td>October</td>\n",
       "      <td>180000.0</td>\n",
       "    </tr>\n",
       "    <tr>\n",
       "      <th>5</th>\n",
       "      <td>11</td>\n",
       "      <td>November</td>\n",
       "      <td>236000.0</td>\n",
       "    </tr>\n",
       "    <tr>\n",
       "      <th>6</th>\n",
       "      <td>12</td>\n",
       "      <td>December</td>\n",
       "      <td>7517500.0</td>\n",
       "    </tr>\n",
       "  </tbody>\n",
       "</table>\n",
       "</div>"
      ],
      "text/plain": [
       "   months months_name  LoanAmount\n",
       "0       6        June    165000.0\n",
       "1       7        July    168500.0\n",
       "2       8      August    172500.0\n",
       "3       9   September    226500.0\n",
       "4      10     October    180000.0\n",
       "5      11    November    236000.0\n",
       "6      12    December   7517500.0"
      ]
     },
     "execution_count": 23,
     "metadata": {},
     "output_type": "execute_result"
    }
   ],
   "source": [
    "months_data[[\"months\",\"months_name\",\"LoanAmount\"]] # INDEX ONLY REQUIRED COLUMNS"
   ]
  },
  {
   "cell_type": "code",
   "execution_count": 24,
   "metadata": {},
   "outputs": [],
   "source": [
    "late_payments_second_half_year = late_payments[(late_payments[\"appilcationDate\"] > \"2018-06-01\") & (late_payments[\"appilcationDate\"] < \"2019-01-01\")] # FILTER THE MONTHS REQUIRED AS SPECIFIED IN THE PROBLEM BY GETTING THE MONTHS LESS THE THE MAX BUT GREATER THAN THE MIN OFTHE DATASET"
   ]
  },
  {
   "cell_type": "code",
   "execution_count": 25,
   "metadata": {},
   "outputs": [
    {
     "name": "stderr",
     "output_type": "stream",
     "text": [
      "C:\\ProgramData\\Anaconda3\\lib\\site-packages\\ipykernel_launcher.py:1: SettingWithCopyWarning: \n",
      "A value is trying to be set on a copy of a slice from a DataFrame.\n",
      "Try using .loc[row_indexer,col_indexer] = value instead\n",
      "\n",
      "See the caveats in the documentation: https://pandas.pydata.org/pandas-docs/stable/user_guide/indexing.html#returning-a-view-versus-a-copy\n",
      "  \"\"\"Entry point for launching an IPython kernel.\n"
     ]
    }
   ],
   "source": [
    "late_payments_second_half_year[\"default_days\"] = late_payments_second_half_year[\"dateDifference\"].dt.days  # GET THE DEFAULT DAYS OR NUMBER OF DAYS LATE FOR EACH LOAN AS A NUMERIC DATATYPE"
   ]
  },
  {
   "cell_type": "code",
   "execution_count": 26,
   "metadata": {},
   "outputs": [],
   "source": [
    "total_monthly_default = late_payments_second_half_year.groupby(\"month\").sum().reset_index() # GROUP DATA BY MONTH GET THE SUMS IN OTHERTO FETCH THE SUM TOTAL DEFAULTS FOR EACH MONTH IN THE PERIOD\n",
    "total_monthly_default[\"months_name\"] = total_monthly_default.month.replace(months_text) # REPLACE MONTH NUMBERS WITH MONTH NAMES"
   ]
  },
  {
   "cell_type": "code",
   "execution_count": 27,
   "metadata": {},
   "outputs": [
    {
     "data": {
      "text/html": [
       "<div>\n",
       "<style scoped>\n",
       "    .dataframe tbody tr th:only-of-type {\n",
       "        vertical-align: middle;\n",
       "    }\n",
       "\n",
       "    .dataframe tbody tr th {\n",
       "        vertical-align: top;\n",
       "    }\n",
       "\n",
       "    .dataframe thead th {\n",
       "        text-align: right;\n",
       "    }\n",
       "</style>\n",
       "<table border=\"1\" class=\"dataframe\">\n",
       "  <thead>\n",
       "    <tr style=\"text-align: right;\">\n",
       "      <th></th>\n",
       "      <th>month</th>\n",
       "      <th>months_name</th>\n",
       "      <th>default_days</th>\n",
       "    </tr>\n",
       "  </thead>\n",
       "  <tbody>\n",
       "    <tr>\n",
       "      <th>1</th>\n",
       "      <td>7</td>\n",
       "      <td>July</td>\n",
       "      <td>413</td>\n",
       "    </tr>\n",
       "    <tr>\n",
       "      <th>3</th>\n",
       "      <td>9</td>\n",
       "      <td>September</td>\n",
       "      <td>282</td>\n",
       "    </tr>\n",
       "    <tr>\n",
       "      <th>2</th>\n",
       "      <td>8</td>\n",
       "      <td>August</td>\n",
       "      <td>187</td>\n",
       "    </tr>\n",
       "    <tr>\n",
       "      <th>0</th>\n",
       "      <td>6</td>\n",
       "      <td>June</td>\n",
       "      <td>165</td>\n",
       "    </tr>\n",
       "    <tr>\n",
       "      <th>5</th>\n",
       "      <td>11</td>\n",
       "      <td>November</td>\n",
       "      <td>48</td>\n",
       "    </tr>\n",
       "    <tr>\n",
       "      <th>4</th>\n",
       "      <td>10</td>\n",
       "      <td>October</td>\n",
       "      <td>37</td>\n",
       "    </tr>\n",
       "  </tbody>\n",
       "</table>\n",
       "</div>"
      ],
      "text/plain": [
       "   month months_name  default_days\n",
       "1      7        July           413\n",
       "3      9   September           282\n",
       "2      8      August           187\n",
       "0      6        June           165\n",
       "5     11    November            48\n",
       "4     10     October            37"
      ]
     },
     "execution_count": 27,
     "metadata": {},
     "output_type": "execute_result"
    }
   ],
   "source": [
    "total_monthly_default[[\"month\", \"months_name\", \"default_days\"]].sort_values(\"default_days\", ascending = False) # SORT VALUES BY THE NUMBER OF DAYS DEFAULTED IN DESCENDING ORDER."
   ]
  },
  {
   "cell_type": "code",
   "execution_count": null,
   "metadata": {},
   "outputs": [],
   "source": []
  },
  {
   "cell_type": "code",
   "execution_count": 28,
   "metadata": {},
   "outputs": [
    {
     "data": {
      "text/html": [
       "<div>\n",
       "<style scoped>\n",
       "    .dataframe tbody tr th:only-of-type {\n",
       "        vertical-align: middle;\n",
       "    }\n",
       "\n",
       "    .dataframe tbody tr th {\n",
       "        vertical-align: top;\n",
       "    }\n",
       "\n",
       "    .dataframe thead th {\n",
       "        text-align: right;\n",
       "    }\n",
       "</style>\n",
       "<table border=\"1\" class=\"dataframe\">\n",
       "  <thead>\n",
       "    <tr style=\"text-align: right;\">\n",
       "      <th></th>\n",
       "      <th>customerID</th>\n",
       "      <th>loanId</th>\n",
       "      <th>appilcationDate</th>\n",
       "      <th>LoanNumber</th>\n",
       "      <th>LoanAmount</th>\n",
       "      <th>InterestRate</th>\n",
       "      <th>TermDays</th>\n",
       "      <th>repaymentDueDate</th>\n",
       "      <th>repaymentPaidDate</th>\n",
       "      <th>dateDifference</th>\n",
       "      <th>months</th>\n",
       "    </tr>\n",
       "  </thead>\n",
       "  <tbody>\n",
       "    <tr>\n",
       "      <th>529</th>\n",
       "      <td>987534954</td>\n",
       "      <td>302826745524</td>\n",
       "      <td>2018-11-26</td>\n",
       "      <td>5</td>\n",
       "      <td>20500.0</td>\n",
       "      <td>20.0</td>\n",
       "      <td>60</td>\n",
       "      <td>2019-01-26</td>\n",
       "      <td>2019-01-15</td>\n",
       "      <td>-11 days</td>\n",
       "      <td>11</td>\n",
       "    </tr>\n",
       "    <tr>\n",
       "      <th>533</th>\n",
       "      <td>581719506</td>\n",
       "      <td>302684978834</td>\n",
       "      <td>2018-11-01</td>\n",
       "      <td>5</td>\n",
       "      <td>20500.0</td>\n",
       "      <td>20.0</td>\n",
       "      <td>60</td>\n",
       "      <td>2019-01-02</td>\n",
       "      <td>2019-01-02</td>\n",
       "      <td>0 days</td>\n",
       "      <td>11</td>\n",
       "    </tr>\n",
       "    <tr>\n",
       "      <th>596</th>\n",
       "      <td>397718724</td>\n",
       "      <td>302792431052</td>\n",
       "      <td>2018-11-20</td>\n",
       "      <td>4</td>\n",
       "      <td>15000.0</td>\n",
       "      <td>15.0</td>\n",
       "      <td>60</td>\n",
       "      <td>2019-01-20</td>\n",
       "      <td>2018-12-20</td>\n",
       "      <td>-31 days</td>\n",
       "      <td>11</td>\n",
       "    </tr>\n",
       "    <tr>\n",
       "      <th>623</th>\n",
       "      <td>201404479</td>\n",
       "      <td>302851167206</td>\n",
       "      <td>2018-11-30</td>\n",
       "      <td>1</td>\n",
       "      <td>7500.0</td>\n",
       "      <td>30.0</td>\n",
       "      <td>30</td>\n",
       "      <td>2018-12-30</td>\n",
       "      <td>2018-12-25</td>\n",
       "      <td>-5 days</td>\n",
       "      <td>11</td>\n",
       "    </tr>\n",
       "    <tr>\n",
       "      <th>636</th>\n",
       "      <td>383163813</td>\n",
       "      <td>302740820327</td>\n",
       "      <td>2018-11-11</td>\n",
       "      <td>1</td>\n",
       "      <td>7500.0</td>\n",
       "      <td>30.0</td>\n",
       "      <td>30</td>\n",
       "      <td>2018-12-11</td>\n",
       "      <td>2018-12-17</td>\n",
       "      <td>6 days</td>\n",
       "      <td>11</td>\n",
       "    </tr>\n",
       "    <tr>\n",
       "      <th>671</th>\n",
       "      <td>125230857</td>\n",
       "      <td>302742978281</td>\n",
       "      <td>2018-11-11</td>\n",
       "      <td>6</td>\n",
       "      <td>7500.0</td>\n",
       "      <td>30.0</td>\n",
       "      <td>30</td>\n",
       "      <td>2018-12-11</td>\n",
       "      <td>2018-11-30</td>\n",
       "      <td>-11 days</td>\n",
       "      <td>11</td>\n",
       "    </tr>\n",
       "    <tr>\n",
       "      <th>674</th>\n",
       "      <td>640512689</td>\n",
       "      <td>302730498581</td>\n",
       "      <td>2018-11-09</td>\n",
       "      <td>1</td>\n",
       "      <td>7500.0</td>\n",
       "      <td>30.0</td>\n",
       "      <td>30</td>\n",
       "      <td>2018-12-09</td>\n",
       "      <td>2018-12-09</td>\n",
       "      <td>0 days</td>\n",
       "      <td>11</td>\n",
       "    </tr>\n",
       "    <tr>\n",
       "      <th>689</th>\n",
       "      <td>311159398</td>\n",
       "      <td>302685653951</td>\n",
       "      <td>2018-11-01</td>\n",
       "      <td>1</td>\n",
       "      <td>7500.0</td>\n",
       "      <td>30.0</td>\n",
       "      <td>30</td>\n",
       "      <td>2018-12-01</td>\n",
       "      <td>2018-12-11</td>\n",
       "      <td>10 days</td>\n",
       "      <td>11</td>\n",
       "    </tr>\n",
       "    <tr>\n",
       "      <th>734</th>\n",
       "      <td>638063738</td>\n",
       "      <td>302742183194</td>\n",
       "      <td>2018-11-11</td>\n",
       "      <td>1</td>\n",
       "      <td>7500.0</td>\n",
       "      <td>30.0</td>\n",
       "      <td>30</td>\n",
       "      <td>2018-12-11</td>\n",
       "      <td>2018-12-11</td>\n",
       "      <td>0 days</td>\n",
       "      <td>11</td>\n",
       "    </tr>\n",
       "    <tr>\n",
       "      <th>764</th>\n",
       "      <td>019473702</td>\n",
       "      <td>302720343818</td>\n",
       "      <td>2018-11-07</td>\n",
       "      <td>1</td>\n",
       "      <td>7500.0</td>\n",
       "      <td>30.0</td>\n",
       "      <td>30</td>\n",
       "      <td>2018-12-07</td>\n",
       "      <td>2018-12-13</td>\n",
       "      <td>6 days</td>\n",
       "      <td>11</td>\n",
       "    </tr>\n",
       "    <tr>\n",
       "      <th>776</th>\n",
       "      <td>402604116</td>\n",
       "      <td>302817370181</td>\n",
       "      <td>2018-11-24</td>\n",
       "      <td>3</td>\n",
       "      <td>7500.0</td>\n",
       "      <td>30.0</td>\n",
       "      <td>30</td>\n",
       "      <td>2018-12-24</td>\n",
       "      <td>2018-12-25</td>\n",
       "      <td>1 days</td>\n",
       "      <td>11</td>\n",
       "    </tr>\n",
       "    <tr>\n",
       "      <th>782</th>\n",
       "      <td>563994804</td>\n",
       "      <td>302739772352</td>\n",
       "      <td>2018-11-10</td>\n",
       "      <td>1</td>\n",
       "      <td>7500.0</td>\n",
       "      <td>30.0</td>\n",
       "      <td>30</td>\n",
       "      <td>2018-12-10</td>\n",
       "      <td>2018-12-12</td>\n",
       "      <td>2 days</td>\n",
       "      <td>11</td>\n",
       "    </tr>\n",
       "    <tr>\n",
       "      <th>806</th>\n",
       "      <td>667797821</td>\n",
       "      <td>302700534812</td>\n",
       "      <td>2018-11-04</td>\n",
       "      <td>1</td>\n",
       "      <td>7500.0</td>\n",
       "      <td>30.0</td>\n",
       "      <td>30</td>\n",
       "      <td>2018-12-04</td>\n",
       "      <td>2018-12-12</td>\n",
       "      <td>8 days</td>\n",
       "      <td>11</td>\n",
       "    </tr>\n",
       "    <tr>\n",
       "      <th>811</th>\n",
       "      <td>831586836</td>\n",
       "      <td>302694544907</td>\n",
       "      <td>2018-11-03</td>\n",
       "      <td>2</td>\n",
       "      <td>7500.0</td>\n",
       "      <td>30.0</td>\n",
       "      <td>30</td>\n",
       "      <td>2018-12-03</td>\n",
       "      <td>2018-11-27</td>\n",
       "      <td>-6 days</td>\n",
       "      <td>11</td>\n",
       "    </tr>\n",
       "    <tr>\n",
       "      <th>822</th>\n",
       "      <td>052142085</td>\n",
       "      <td>302711247733</td>\n",
       "      <td>2018-11-06</td>\n",
       "      <td>1</td>\n",
       "      <td>7500.0</td>\n",
       "      <td>30.0</td>\n",
       "      <td>30</td>\n",
       "      <td>2018-12-06</td>\n",
       "      <td>2018-12-03</td>\n",
       "      <td>-3 days</td>\n",
       "      <td>11</td>\n",
       "    </tr>\n",
       "    <tr>\n",
       "      <th>839</th>\n",
       "      <td>431417489</td>\n",
       "      <td>302767211882</td>\n",
       "      <td>2018-11-15</td>\n",
       "      <td>1</td>\n",
       "      <td>7500.0</td>\n",
       "      <td>30.0</td>\n",
       "      <td>30</td>\n",
       "      <td>2018-12-15</td>\n",
       "      <td>2018-12-15</td>\n",
       "      <td>0 days</td>\n",
       "      <td>11</td>\n",
       "    </tr>\n",
       "    <tr>\n",
       "      <th>858</th>\n",
       "      <td>977962940</td>\n",
       "      <td>302752039646</td>\n",
       "      <td>2018-11-13</td>\n",
       "      <td>1</td>\n",
       "      <td>7500.0</td>\n",
       "      <td>30.0</td>\n",
       "      <td>30</td>\n",
       "      <td>2018-12-13</td>\n",
       "      <td>2018-12-12</td>\n",
       "      <td>-1 days</td>\n",
       "      <td>11</td>\n",
       "    </tr>\n",
       "    <tr>\n",
       "      <th>865</th>\n",
       "      <td>352943986</td>\n",
       "      <td>302845919758</td>\n",
       "      <td>2018-11-29</td>\n",
       "      <td>2</td>\n",
       "      <td>7500.0</td>\n",
       "      <td>30.0</td>\n",
       "      <td>30</td>\n",
       "      <td>2018-12-29</td>\n",
       "      <td>2019-01-16</td>\n",
       "      <td>18 days</td>\n",
       "      <td>11</td>\n",
       "    </tr>\n",
       "    <tr>\n",
       "      <th>869</th>\n",
       "      <td>497107832</td>\n",
       "      <td>302721151372</td>\n",
       "      <td>2018-11-07</td>\n",
       "      <td>1</td>\n",
       "      <td>7500.0</td>\n",
       "      <td>30.0</td>\n",
       "      <td>30</td>\n",
       "      <td>2018-12-07</td>\n",
       "      <td>2018-12-05</td>\n",
       "      <td>-2 days</td>\n",
       "      <td>11</td>\n",
       "    </tr>\n",
       "    <tr>\n",
       "      <th>880</th>\n",
       "      <td>251418885</td>\n",
       "      <td>302808090308</td>\n",
       "      <td>2018-11-22</td>\n",
       "      <td>2</td>\n",
       "      <td>15000.0</td>\n",
       "      <td>15.0</td>\n",
       "      <td>60</td>\n",
       "      <td>2019-01-22</td>\n",
       "      <td>2018-12-22</td>\n",
       "      <td>-31 days</td>\n",
       "      <td>11</td>\n",
       "    </tr>\n",
       "    <tr>\n",
       "      <th>902</th>\n",
       "      <td>999072271</td>\n",
       "      <td>302702050019</td>\n",
       "      <td>2018-11-04</td>\n",
       "      <td>1</td>\n",
       "      <td>7500.0</td>\n",
       "      <td>30.0</td>\n",
       "      <td>30</td>\n",
       "      <td>2018-12-04</td>\n",
       "      <td>2018-12-03</td>\n",
       "      <td>-1 days</td>\n",
       "      <td>11</td>\n",
       "    </tr>\n",
       "    <tr>\n",
       "      <th>925</th>\n",
       "      <td>705587230</td>\n",
       "      <td>302712014819</td>\n",
       "      <td>2018-11-06</td>\n",
       "      <td>2</td>\n",
       "      <td>7500.0</td>\n",
       "      <td>30.0</td>\n",
       "      <td>30</td>\n",
       "      <td>2018-12-06</td>\n",
       "      <td>2018-12-03</td>\n",
       "      <td>-3 days</td>\n",
       "      <td>11</td>\n",
       "    </tr>\n",
       "    <tr>\n",
       "      <th>959</th>\n",
       "      <td>737919983</td>\n",
       "      <td>302713704717</td>\n",
       "      <td>2018-11-06</td>\n",
       "      <td>4</td>\n",
       "      <td>7500.0</td>\n",
       "      <td>30.0</td>\n",
       "      <td>30</td>\n",
       "      <td>2018-12-06</td>\n",
       "      <td>2018-11-16</td>\n",
       "      <td>-20 days</td>\n",
       "      <td>11</td>\n",
       "    </tr>\n",
       "    <tr>\n",
       "      <th>986</th>\n",
       "      <td>671136860</td>\n",
       "      <td>302826707789</td>\n",
       "      <td>2018-11-26</td>\n",
       "      <td>2</td>\n",
       "      <td>7500.0</td>\n",
       "      <td>30.0</td>\n",
       "      <td>30</td>\n",
       "      <td>2018-12-27</td>\n",
       "      <td>2018-12-19</td>\n",
       "      <td>-8 days</td>\n",
       "      <td>11</td>\n",
       "    </tr>\n",
       "    <tr>\n",
       "      <th>991</th>\n",
       "      <td>078093608</td>\n",
       "      <td>302729421934</td>\n",
       "      <td>2018-11-09</td>\n",
       "      <td>2</td>\n",
       "      <td>7500.0</td>\n",
       "      <td>30.0</td>\n",
       "      <td>30</td>\n",
       "      <td>2018-12-09</td>\n",
       "      <td>2018-11-30</td>\n",
       "      <td>-9 days</td>\n",
       "      <td>11</td>\n",
       "    </tr>\n",
       "    <tr>\n",
       "      <th>998</th>\n",
       "      <td>648637210</td>\n",
       "      <td>302788322114</td>\n",
       "      <td>2018-11-19</td>\n",
       "      <td>1</td>\n",
       "      <td>7500.0</td>\n",
       "      <td>30.0</td>\n",
       "      <td>30</td>\n",
       "      <td>2018-12-19</td>\n",
       "      <td>2018-12-17</td>\n",
       "      <td>-2 days</td>\n",
       "      <td>11</td>\n",
       "    </tr>\n",
       "  </tbody>\n",
       "</table>\n",
       "</div>"
      ],
      "text/plain": [
       "    customerID        loanId appilcationDate  LoanNumber  LoanAmount  \\\n",
       "529  987534954  302826745524      2018-11-26           5     20500.0   \n",
       "533  581719506  302684978834      2018-11-01           5     20500.0   \n",
       "596  397718724  302792431052      2018-11-20           4     15000.0   \n",
       "623  201404479  302851167206      2018-11-30           1      7500.0   \n",
       "636  383163813  302740820327      2018-11-11           1      7500.0   \n",
       "671  125230857  302742978281      2018-11-11           6      7500.0   \n",
       "674  640512689  302730498581      2018-11-09           1      7500.0   \n",
       "689  311159398  302685653951      2018-11-01           1      7500.0   \n",
       "734  638063738  302742183194      2018-11-11           1      7500.0   \n",
       "764  019473702  302720343818      2018-11-07           1      7500.0   \n",
       "776  402604116  302817370181      2018-11-24           3      7500.0   \n",
       "782  563994804  302739772352      2018-11-10           1      7500.0   \n",
       "806  667797821  302700534812      2018-11-04           1      7500.0   \n",
       "811  831586836  302694544907      2018-11-03           2      7500.0   \n",
       "822  052142085  302711247733      2018-11-06           1      7500.0   \n",
       "839  431417489  302767211882      2018-11-15           1      7500.0   \n",
       "858  977962940  302752039646      2018-11-13           1      7500.0   \n",
       "865  352943986  302845919758      2018-11-29           2      7500.0   \n",
       "869  497107832  302721151372      2018-11-07           1      7500.0   \n",
       "880  251418885  302808090308      2018-11-22           2     15000.0   \n",
       "902  999072271  302702050019      2018-11-04           1      7500.0   \n",
       "925  705587230  302712014819      2018-11-06           2      7500.0   \n",
       "959  737919983  302713704717      2018-11-06           4      7500.0   \n",
       "986  671136860  302826707789      2018-11-26           2      7500.0   \n",
       "991  078093608  302729421934      2018-11-09           2      7500.0   \n",
       "998  648637210  302788322114      2018-11-19           1      7500.0   \n",
       "\n",
       "     InterestRate  TermDays repaymentDueDate repaymentPaidDate dateDifference  \\\n",
       "529          20.0        60       2019-01-26        2019-01-15       -11 days   \n",
       "533          20.0        60       2019-01-02        2019-01-02         0 days   \n",
       "596          15.0        60       2019-01-20        2018-12-20       -31 days   \n",
       "623          30.0        30       2018-12-30        2018-12-25        -5 days   \n",
       "636          30.0        30       2018-12-11        2018-12-17         6 days   \n",
       "671          30.0        30       2018-12-11        2018-11-30       -11 days   \n",
       "674          30.0        30       2018-12-09        2018-12-09         0 days   \n",
       "689          30.0        30       2018-12-01        2018-12-11        10 days   \n",
       "734          30.0        30       2018-12-11        2018-12-11         0 days   \n",
       "764          30.0        30       2018-12-07        2018-12-13         6 days   \n",
       "776          30.0        30       2018-12-24        2018-12-25         1 days   \n",
       "782          30.0        30       2018-12-10        2018-12-12         2 days   \n",
       "806          30.0        30       2018-12-04        2018-12-12         8 days   \n",
       "811          30.0        30       2018-12-03        2018-11-27        -6 days   \n",
       "822          30.0        30       2018-12-06        2018-12-03        -3 days   \n",
       "839          30.0        30       2018-12-15        2018-12-15         0 days   \n",
       "858          30.0        30       2018-12-13        2018-12-12        -1 days   \n",
       "865          30.0        30       2018-12-29        2019-01-16        18 days   \n",
       "869          30.0        30       2018-12-07        2018-12-05        -2 days   \n",
       "880          15.0        60       2019-01-22        2018-12-22       -31 days   \n",
       "902          30.0        30       2018-12-04        2018-12-03        -1 days   \n",
       "925          30.0        30       2018-12-06        2018-12-03        -3 days   \n",
       "959          30.0        30       2018-12-06        2018-11-16       -20 days   \n",
       "986          30.0        30       2018-12-27        2018-12-19        -8 days   \n",
       "991          30.0        30       2018-12-09        2018-11-30        -9 days   \n",
       "998          30.0        30       2018-12-19        2018-12-17        -2 days   \n",
       "\n",
       "     months  \n",
       "529      11  \n",
       "533      11  \n",
       "596      11  \n",
       "623      11  \n",
       "636      11  \n",
       "671      11  \n",
       "674      11  \n",
       "689      11  \n",
       "734      11  \n",
       "764      11  \n",
       "776      11  \n",
       "782      11  \n",
       "806      11  \n",
       "811      11  \n",
       "822      11  \n",
       "839      11  \n",
       "858      11  \n",
       "865      11  \n",
       "869      11  \n",
       "880      11  \n",
       "902      11  \n",
       "925      11  \n",
       "959      11  \n",
       "986      11  \n",
       "991      11  \n",
       "998      11  "
      ]
     },
     "execution_count": 28,
     "metadata": {},
     "output_type": "execute_result"
    }
   ],
   "source": [
    "december_data_points = data[(data[\"appilcationDate\"] > \"2018-11-30\") & (data[\"appilcationDate\"] < \"2019-01-01\")] # FILTER THE MONTHS REQUIRED AS SPECIFIED IN THE PROBLEM BY GETTING THE MONTHS LESS THE THE MAX BUT GREATER THAN THE MIN OFTHE DATASET\n",
    "december_data_points # DECEMBER DATA POINTS\n",
    "\n",
    "november_data_points = data[(data[\"appilcationDate\"] > \"2018-10-31\") & (data[\"appilcationDate\"] < \"2018-12-01\")] # FILTER THE MONTHS REQUIRED AS SPECIFIED IN THE PROBLEM BY GETTING THE MONTHS LESS THE THE MAX BUT GREATER THAN THE MIN OFTHE DATASET\n",
    "november_data_points # NOVEMBER DATAPOINTS"
   ]
  },
  {
   "cell_type": "code",
   "execution_count": 29,
   "metadata": {},
   "outputs": [],
   "source": [
    "november_weeks = november_data_points.resample('W-MON', on='appilcationDate').sum().reset_index() # RESAMPLE DATA INTO WEEKLY BASIS\n",
    "december_weeks = december_data_points.resample('W-MON', on='appilcationDate').sum().reset_index()\n",
    "# RESET INDEX PUTS BACK A NUMERIC INDEX AFTER GROUPBY OR A RESAMPLE OPERATION HAS BEEN CARRIED OUT ON A DATAFRAME"
   ]
  },
  {
   "cell_type": "code",
   "execution_count": 30,
   "metadata": {},
   "outputs": [
    {
     "data": {
      "text/html": [
       "<div>\n",
       "<style scoped>\n",
       "    .dataframe tbody tr th:only-of-type {\n",
       "        vertical-align: middle;\n",
       "    }\n",
       "\n",
       "    .dataframe tbody tr th {\n",
       "        vertical-align: top;\n",
       "    }\n",
       "\n",
       "    .dataframe thead th {\n",
       "        text-align: right;\n",
       "    }\n",
       "</style>\n",
       "<table border=\"1\" class=\"dataframe\">\n",
       "  <thead>\n",
       "    <tr style=\"text-align: right;\">\n",
       "      <th></th>\n",
       "      <th>appilcationDate</th>\n",
       "      <th>LoanNumber</th>\n",
       "      <th>LoanAmount</th>\n",
       "      <th>InterestRate</th>\n",
       "      <th>TermDays</th>\n",
       "      <th>months</th>\n",
       "    </tr>\n",
       "  </thead>\n",
       "  <tbody>\n",
       "    <tr>\n",
       "      <th>0</th>\n",
       "      <td>2018-12-03</td>\n",
       "      <td>11</td>\n",
       "      <td>22500.0</td>\n",
       "      <td>90.0</td>\n",
       "      <td>90</td>\n",
       "      <td>36</td>\n",
       "    </tr>\n",
       "    <tr>\n",
       "      <th>1</th>\n",
       "      <td>2018-12-10</td>\n",
       "      <td>16</td>\n",
       "      <td>81000.0</td>\n",
       "      <td>204.0</td>\n",
       "      <td>330</td>\n",
       "      <td>96</td>\n",
       "    </tr>\n",
       "    <tr>\n",
       "      <th>2</th>\n",
       "      <td>2018-12-17</td>\n",
       "      <td>32</td>\n",
       "      <td>290000.0</td>\n",
       "      <td>898.8</td>\n",
       "      <td>1320</td>\n",
       "      <td>360</td>\n",
       "    </tr>\n",
       "    <tr>\n",
       "      <th>3</th>\n",
       "      <td>2018-12-24</td>\n",
       "      <td>627</td>\n",
       "      <td>5336500.0</td>\n",
       "      <td>2876.7</td>\n",
       "      <td>13230</td>\n",
       "      <td>2076</td>\n",
       "    </tr>\n",
       "    <tr>\n",
       "      <th>4</th>\n",
       "      <td>2018-12-31</td>\n",
       "      <td>334</td>\n",
       "      <td>1787500.0</td>\n",
       "      <td>1551.9</td>\n",
       "      <td>5340</td>\n",
       "      <td>1044</td>\n",
       "    </tr>\n",
       "  </tbody>\n",
       "</table>\n",
       "</div>"
      ],
      "text/plain": [
       "  appilcationDate  LoanNumber  LoanAmount  InterestRate  TermDays  months\n",
       "0      2018-12-03          11     22500.0          90.0        90      36\n",
       "1      2018-12-10          16     81000.0         204.0       330      96\n",
       "2      2018-12-17          32    290000.0         898.8      1320     360\n",
       "3      2018-12-24         627   5336500.0        2876.7     13230    2076\n",
       "4      2018-12-31         334   1787500.0        1551.9      5340    1044"
      ]
     },
     "execution_count": 30,
     "metadata": {},
     "output_type": "execute_result"
    }
   ],
   "source": [
    "december_weeks"
   ]
  },
  {
   "cell_type": "code",
   "execution_count": 31,
   "metadata": {},
   "outputs": [
    {
     "data": {
      "text/html": [
       "<div>\n",
       "<style scoped>\n",
       "    .dataframe tbody tr th:only-of-type {\n",
       "        vertical-align: middle;\n",
       "    }\n",
       "\n",
       "    .dataframe tbody tr th {\n",
       "        vertical-align: top;\n",
       "    }\n",
       "\n",
       "    .dataframe thead th {\n",
       "        text-align: right;\n",
       "    }\n",
       "</style>\n",
       "<table border=\"1\" class=\"dataframe\">\n",
       "  <thead>\n",
       "    <tr style=\"text-align: right;\">\n",
       "      <th></th>\n",
       "      <th>appilcationDate</th>\n",
       "      <th>LoanNumber</th>\n",
       "      <th>LoanAmount</th>\n",
       "      <th>InterestRate</th>\n",
       "      <th>TermDays</th>\n",
       "      <th>months</th>\n",
       "    </tr>\n",
       "  </thead>\n",
       "  <tbody>\n",
       "    <tr>\n",
       "      <th>0</th>\n",
       "      <td>2018-11-05</td>\n",
       "      <td>10</td>\n",
       "      <td>50500.0</td>\n",
       "      <td>140.0</td>\n",
       "      <td>180</td>\n",
       "      <td>55</td>\n",
       "    </tr>\n",
       "    <tr>\n",
       "      <th>1</th>\n",
       "      <td>2018-11-12</td>\n",
       "      <td>21</td>\n",
       "      <td>82500.0</td>\n",
       "      <td>330.0</td>\n",
       "      <td>330</td>\n",
       "      <td>121</td>\n",
       "    </tr>\n",
       "    <tr>\n",
       "      <th>2</th>\n",
       "      <td>2018-11-19</td>\n",
       "      <td>3</td>\n",
       "      <td>22500.0</td>\n",
       "      <td>90.0</td>\n",
       "      <td>90</td>\n",
       "      <td>33</td>\n",
       "    </tr>\n",
       "    <tr>\n",
       "      <th>3</th>\n",
       "      <td>2018-11-26</td>\n",
       "      <td>16</td>\n",
       "      <td>65500.0</td>\n",
       "      <td>110.0</td>\n",
       "      <td>240</td>\n",
       "      <td>55</td>\n",
       "    </tr>\n",
       "    <tr>\n",
       "      <th>4</th>\n",
       "      <td>2018-12-03</td>\n",
       "      <td>3</td>\n",
       "      <td>15000.0</td>\n",
       "      <td>60.0</td>\n",
       "      <td>60</td>\n",
       "      <td>22</td>\n",
       "    </tr>\n",
       "  </tbody>\n",
       "</table>\n",
       "</div>"
      ],
      "text/plain": [
       "  appilcationDate  LoanNumber  LoanAmount  InterestRate  TermDays  months\n",
       "0      2018-11-05          10     50500.0         140.0       180      55\n",
       "1      2018-11-12          21     82500.0         330.0       330     121\n",
       "2      2018-11-19           3     22500.0          90.0        90      33\n",
       "3      2018-11-26          16     65500.0         110.0       240      55\n",
       "4      2018-12-03           3     15000.0          60.0        60      22"
      ]
     },
     "execution_count": 31,
     "metadata": {},
     "output_type": "execute_result"
    }
   ],
   "source": [
    "november_weeks"
   ]
  },
  {
   "cell_type": "code",
   "execution_count": 33,
   "metadata": {},
   "outputs": [
    {
     "data": {
      "image/png": "[encoded data removed]",
      "text/plain": [
       "<Figure size 1080x720 with 1 Axes>"
      ]
     },
     "metadata": {
      "needs_background": "light"
     },
     "output_type": "display_data"
    }
   ],
   "source": [
    "numpy_xticks = np.arange(5) # numpy array of values which will be used to manipulate the bar positions on the bar chart\n",
    "\n",
    "plt.rcParams[\"figure.figsize\"] = (15,10)\n",
    "temporary_keys = [\"wk1\",\"wk2\",\"wk3\",\"wk4\",\"wk5\"]  # ACTUAL TEXT VALUES TO REPRESENT EACH OF THE WEEK VALUES\n",
    "barwidth = 0.3\n",
    "plt.bar(numpy_xticks - 0.2, november_weeks[\"LoanAmount\"], width = barwidth)\n",
    "plt.bar(numpy_xticks + 0.2, december_weeks[\"LoanAmount\"], width = barwidth)\n",
    "\n",
    "plt.xticks(numpy_xticks, temporary_keys)\n",
    "plt.show()"
   ]
  },
  {
   "cell_type": "code",
   "execution_count": null,
   "metadata": {},
   "outputs": [],
   "source": []
  },
  {
   "cell_type": "code",
   "execution_count": 34,
   "metadata": {},
   "outputs": [
    {
     "ename": "AttributeError",
     "evalue": "'Int64Index' object has no attribute '_with_freq'",
     "output_type": "error",
     "traceback": [
      "\u001b[1;31m---------------------------------------------------------------------------\u001b[0m",
      "\u001b[1;31mAttributeError\u001b[0m                            Traceback (most recent call last)",
      "\u001b[1;32m<ipython-input-34-760d39f1539d>\u001b[0m in \u001b[0;36m<module>\u001b[1;34m\u001b[0m\n\u001b[0;32m      5\u001b[0m \u001b[0mapril_data_points\u001b[0m \u001b[1;31m# NOVEMBER DATAPOINTS\u001b[0m\u001b[1;33m\u001b[0m\u001b[1;33m\u001b[0m\u001b[0m\n\u001b[0;32m      6\u001b[0m \u001b[1;33m\u001b[0m\u001b[0m\n\u001b[1;32m----> 7\u001b[1;33m \u001b[0mapril_weeks\u001b[0m \u001b[1;33m=\u001b[0m \u001b[0mapril_data_points\u001b[0m\u001b[1;33m.\u001b[0m\u001b[0mresample\u001b[0m\u001b[1;33m(\u001b[0m\u001b[1;34m'W-MON'\u001b[0m\u001b[1;33m,\u001b[0m \u001b[0mon\u001b[0m\u001b[1;33m=\u001b[0m\u001b[1;34m'appilcationDate'\u001b[0m\u001b[1;33m)\u001b[0m\u001b[1;33m.\u001b[0m\u001b[0msum\u001b[0m\u001b[1;33m(\u001b[0m\u001b[1;33m)\u001b[0m\u001b[1;33m.\u001b[0m\u001b[0mreset_index\u001b[0m\u001b[1;33m(\u001b[0m\u001b[1;33m)\u001b[0m \u001b[1;31m# RESAMPLE DATA INTO WEEKLY BASIS\u001b[0m\u001b[1;33m\u001b[0m\u001b[1;33m\u001b[0m\u001b[0m\n\u001b[0m\u001b[0;32m      8\u001b[0m \u001b[0mmarch_weeks\u001b[0m \u001b[1;33m=\u001b[0m \u001b[0mmarch_data_points\u001b[0m\u001b[1;33m.\u001b[0m\u001b[0mresample\u001b[0m\u001b[1;33m(\u001b[0m\u001b[1;34m'W-MON'\u001b[0m\u001b[1;33m,\u001b[0m \u001b[0mon\u001b[0m\u001b[1;33m=\u001b[0m\u001b[1;34m'appilcationDate'\u001b[0m\u001b[1;33m)\u001b[0m\u001b[1;33m.\u001b[0m\u001b[0msum\u001b[0m\u001b[1;33m(\u001b[0m\u001b[1;33m)\u001b[0m\u001b[1;33m.\u001b[0m\u001b[0mreset_index\u001b[0m\u001b[1;33m(\u001b[0m\u001b[1;33m)\u001b[0m\u001b[1;33m\u001b[0m\u001b[1;33m\u001b[0m\u001b[0m\n\u001b[0;32m      9\u001b[0m \u001b[1;31m# RESET INDEX PUTS BACK A NUMERIC INDEX AFTER GROUPBY OR A RESAMPLE OPERATION HAS BEEN CARRIED OUT ON A DATAFRAME\u001b[0m\u001b[1;33m\u001b[0m\u001b[1;33m\u001b[0m\u001b[1;33m\u001b[0m\u001b[0m\n",
      "\u001b[1;32mC:\\ProgramData\\Anaconda3\\lib\\site-packages\\pandas\\core\\resample.py\u001b[0m in \u001b[0;36mf\u001b[1;34m(self, _method, min_count, *args, **kwargs)\u001b[0m\n\u001b[0;32m    923\u001b[0m     \u001b[1;32mdef\u001b[0m \u001b[0mf\u001b[0m\u001b[1;33m(\u001b[0m\u001b[0mself\u001b[0m\u001b[1;33m,\u001b[0m \u001b[0m_method\u001b[0m\u001b[1;33m=\u001b[0m\u001b[0mmethod\u001b[0m\u001b[1;33m,\u001b[0m \u001b[0mmin_count\u001b[0m\u001b[1;33m=\u001b[0m\u001b[1;36m0\u001b[0m\u001b[1;33m,\u001b[0m \u001b[1;33m*\u001b[0m\u001b[0margs\u001b[0m\u001b[1;33m,\u001b[0m \u001b[1;33m**\u001b[0m\u001b[0mkwargs\u001b[0m\u001b[1;33m)\u001b[0m\u001b[1;33m:\u001b[0m\u001b[1;33m\u001b[0m\u001b[1;33m\u001b[0m\u001b[0m\n\u001b[0;32m    924\u001b[0m         \u001b[0mnv\u001b[0m\u001b[1;33m.\u001b[0m\u001b[0mvalidate_resampler_func\u001b[0m\u001b[1;33m(\u001b[0m\u001b[0m_method\u001b[0m\u001b[1;33m,\u001b[0m \u001b[0margs\u001b[0m\u001b[1;33m,\u001b[0m \u001b[0mkwargs\u001b[0m\u001b[1;33m)\u001b[0m\u001b[1;33m\u001b[0m\u001b[1;33m\u001b[0m\u001b[0m\n\u001b[1;32m--> 925\u001b[1;33m         \u001b[1;32mreturn\u001b[0m \u001b[0mself\u001b[0m\u001b[1;33m.\u001b[0m\u001b[0m_downsample\u001b[0m\u001b[1;33m(\u001b[0m\u001b[0m_method\u001b[0m\u001b[1;33m,\u001b[0m \u001b[0mmin_count\u001b[0m\u001b[1;33m=\u001b[0m\u001b[0mmin_count\u001b[0m\u001b[1;33m)\u001b[0m\u001b[1;33m\u001b[0m\u001b[1;33m\u001b[0m\u001b[0m\n\u001b[0m\u001b[0;32m    926\u001b[0m \u001b[1;33m\u001b[0m\u001b[0m\n\u001b[0;32m    927\u001b[0m     \u001b[0mf\u001b[0m\u001b[1;33m.\u001b[0m\u001b[0m__doc__\u001b[0m \u001b[1;33m=\u001b[0m \u001b[0mgetattr\u001b[0m\u001b[1;33m(\u001b[0m\u001b[0mGroupBy\u001b[0m\u001b[1;33m,\u001b[0m \u001b[0mmethod\u001b[0m\u001b[1;33m)\u001b[0m\u001b[1;33m.\u001b[0m\u001b[0m__doc__\u001b[0m\u001b[1;33m\u001b[0m\u001b[1;33m\u001b[0m\u001b[0m\n",
      "\u001b[1;32mC:\\ProgramData\\Anaconda3\\lib\\site-packages\\pandas\\core\\resample.py\u001b[0m in \u001b[0;36m_downsample\u001b[1;34m(self, how, **kwargs)\u001b[0m\n\u001b[0;32m   1026\u001b[0m             \u001b[1;31m# reset to the new freq\u001b[0m\u001b[1;33m\u001b[0m\u001b[1;33m\u001b[0m\u001b[1;33m\u001b[0m\u001b[0m\n\u001b[0;32m   1027\u001b[0m             \u001b[0mobj\u001b[0m \u001b[1;33m=\u001b[0m \u001b[0mobj\u001b[0m\u001b[1;33m.\u001b[0m\u001b[0mcopy\u001b[0m\u001b[1;33m(\u001b[0m\u001b[1;33m)\u001b[0m\u001b[1;33m\u001b[0m\u001b[1;33m\u001b[0m\u001b[0m\n\u001b[1;32m-> 1028\u001b[1;33m             \u001b[0mobj\u001b[0m\u001b[1;33m.\u001b[0m\u001b[0mindex\u001b[0m \u001b[1;33m=\u001b[0m \u001b[0mobj\u001b[0m\u001b[1;33m.\u001b[0m\u001b[0mindex\u001b[0m\u001b[1;33m.\u001b[0m\u001b[0m_with_freq\u001b[0m\u001b[1;33m(\u001b[0m\u001b[0mself\u001b[0m\u001b[1;33m.\u001b[0m\u001b[0mfreq\u001b[0m\u001b[1;33m)\u001b[0m\u001b[1;33m\u001b[0m\u001b[1;33m\u001b[0m\u001b[0m\n\u001b[0m\u001b[0;32m   1029\u001b[0m             \u001b[1;32massert\u001b[0m \u001b[0mobj\u001b[0m\u001b[1;33m.\u001b[0m\u001b[0mindex\u001b[0m\u001b[1;33m.\u001b[0m\u001b[0mfreq\u001b[0m \u001b[1;33m==\u001b[0m \u001b[0mself\u001b[0m\u001b[1;33m.\u001b[0m\u001b[0mfreq\u001b[0m\u001b[1;33m,\u001b[0m \u001b[1;33m(\u001b[0m\u001b[0mobj\u001b[0m\u001b[1;33m.\u001b[0m\u001b[0mindex\u001b[0m\u001b[1;33m.\u001b[0m\u001b[0mfreq\u001b[0m\u001b[1;33m,\u001b[0m \u001b[0mself\u001b[0m\u001b[1;33m.\u001b[0m\u001b[0mfreq\u001b[0m\u001b[1;33m)\u001b[0m\u001b[1;33m\u001b[0m\u001b[1;33m\u001b[0m\u001b[0m\n\u001b[0;32m   1030\u001b[0m             \u001b[1;32mreturn\u001b[0m \u001b[0mobj\u001b[0m\u001b[1;33m\u001b[0m\u001b[1;33m\u001b[0m\u001b[0m\n",
      "\u001b[1;31mAttributeError\u001b[0m: 'Int64Index' object has no attribute '_with_freq'"
     ]
    }
   ],
   "source": [
    "march_data_points = data[(data[\"appilcationDate\"] > \"2018-02-28\") & (data[\"appilcationDate\"] < \"2018-04-01\")] # FILTER THE MONTHS REQUIRED AS SPECIFIED IN THE PROBLEM BY GETTING THE MONTHS LESS THE THE MAX BUT GREATER THAN THE MIN OFTHE DATASET\n",
    "march_data_points # DECEMBER DATA POINTS\n",
    "\n",
    "april_data_points = data[(data[\"appilcationDate\"] > \"2018-03-31\") & (data[\"appilcationDate\"] < \"2018-05-01\")] # FILTER THE MONTHS REQUIRED AS SPECIFIED IN THE PROBLEM BY GETTING THE MONTHS LESS THE THE MAX BUT GREATER THAN THE MIN OFTHE DATASET\n",
    "april_data_points # NOVEMBER DATAPOINTS\n",
    "\n",
    "april_weeks = april_data_points.resample('W-MON', on='appilcationDate').sum().reset_index() # RESAMPLE DATA INTO WEEKLY BASIS\n",
    "march_weeks = march_data_points.resample('W-MON', on='appilcationDate').sum().reset_index()\n",
    "# RESET INDEX PUTS BACK A NUMERIC INDEX AFTER GROUPBY OR A RESAMPLE OPERATION HAS BEEN CARRIED OUT ON A DATAFRAME\n",
    "\n",
    "numpy_xticks = np.arange(5) # numpy array of values which will be used to manipulate the bar positions on the bar chart\n",
    "\n",
    "plt.rcParams[\"figure.figsize\"] = (15,5)\n",
    "\n",
    "temporary_keys = [\"wk1\",\"wk2\",\"wk3\",\"wk4\",\"wk5\"]  # ACTUAL TEXT VALUES TO REPRESENT EACH OF THE WEEK VALUES\n",
    "barwidth = 0.3\n",
    "plt.bar(numpy_xticks - 0.2, april_weeks[\"LoanAmount\"], width = barwidth)\n",
    "plt.bar(numpy_xticks + 0.2, march_weeks[\"LoanAmount\"], width = barwidth)\n",
    "\n",
    "plt.xticks(numpy_xticks, temporary_keys)\n",
    "plt.show()\n"
   ]
  },
  {
   "cell_type": "code",
   "execution_count": null,
   "metadata": {},
   "outputs": [],
   "source": []
  },
  {
   "cell_type": "code",
   "execution_count": null,
   "metadata": {},
   "outputs": [],
   "source": []
  }
 ],
 "metadata": {
  "kernelspec": {
   "display_name": "Python 3",
   "language": "python",
   "name": "python3"
  },
  "language_info": {
   "codemirror_mode": {
    "name": "ipython",
    "version": 3
   },
   "file_extension": ".py",
   "mimetype": "text/x-python",
   "name": "python",
   "nbconvert_exporter": "python",
   "pygments_lexer": "ipython3",
   "version": "3.7.4"
  }
 },
 "nbformat": 4,
 "nbformat_minor": 2
}
